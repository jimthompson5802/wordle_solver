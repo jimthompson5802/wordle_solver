{
 "cells": [
  {
   "cell_type": "markdown",
   "metadata": {},
   "source": [
    "# Wordle Solver Virtual Assistant (WSVA) Analysis\n",
    "\n",
    "## Experiment Design\n",
    "\n",
    "Select 100 words at random from [previous Wordle games](https://github.com/jimthompson5802/wordle_solver/blob/main/data/f-past-wordle-answers.txt). This list is as of 27Jan2024.  \n",
    "\n",
    "For each word, attempt to guess the word using the two solver types: `llm`, which uses OpenAI GPT4 LLM, and `random` guessing. For each solver type and each word record the number of guesses required to guess the word.\n",
    "\n",
    "Each trial will interact with a local Wordle simulator.  This simulator will provide the same feedback as the real Wordle game:\n",
    "* identify correct letters in the correct position\n",
    "* identify correct letters in the wrong position\n",
    "* identify incorrect letters\n",
    "\n",
    "This simulator will allow guesses past the six allowed in the real game, up to a maximum of 20 guess.  If the word is guessed with six or less attemppts, the trial will be considered a success, otherwise it will be considered a failure."
   ]
  },
  {
   "cell_type": "code",
   "execution_count": 1,
   "metadata": {},
   "outputs": [
    {
     "name": "stderr",
     "output_type": "stream",
     "text": [
      "/tmp/ipykernel_50850/4080736814.py:1: DeprecationWarning: \n",
      "Pyarrow will become a required dependency of pandas in the next major release of pandas (pandas 3.0),\n",
      "(to allow more performant data types, such as the Arrow string type, and better interoperability with other libraries)\n",
      "but was not found to be installed on your system.\n",
      "If this would cause problems for you,\n",
      "please provide us feedback at https://github.com/pandas-dev/pandas/issues/54466\n",
      "        \n",
      "  import pandas as pd\n"
     ]
    }
   ],
   "source": [
    "import pandas as pd"
   ]
  },
  {
   "cell_type": "code",
   "execution_count": 2,
   "metadata": {},
   "outputs": [
    {
     "data": {
      "text/html": [
       "<div>\n",
       "<style scoped>\n",
       "    .dataframe tbody tr th:only-of-type {\n",
       "        vertical-align: middle;\n",
       "    }\n",
       "\n",
       "    .dataframe tbody tr th {\n",
       "        vertical-align: top;\n",
       "    }\n",
       "\n",
       "    .dataframe thead th {\n",
       "        text-align: right;\n",
       "    }\n",
       "</style>\n",
       "<table border=\"1\" class=\"dataframe\">\n",
       "  <thead>\n",
       "    <tr style=\"text-align: right;\">\n",
       "      <th></th>\n",
       "      <th>solver_type</th>\n",
       "      <th>initial_word</th>\n",
       "      <th>word</th>\n",
       "      <th>num_attempts</th>\n",
       "      <th>solved_wordle</th>\n",
       "    </tr>\n",
       "  </thead>\n",
       "  <tbody>\n",
       "    <tr>\n",
       "      <th>1</th>\n",
       "      <td>random</td>\n",
       "      <td>trace</td>\n",
       "      <td>hotel</td>\n",
       "      <td>6</td>\n",
       "      <td>True</td>\n",
       "    </tr>\n",
       "    <tr>\n",
       "      <th>80</th>\n",
       "      <td>random</td>\n",
       "      <td>trace</td>\n",
       "      <td>wrung</td>\n",
       "      <td>3</td>\n",
       "      <td>True</td>\n",
       "    </tr>\n",
       "    <tr>\n",
       "      <th>175</th>\n",
       "      <td>llm</td>\n",
       "      <td>trace</td>\n",
       "      <td>worse</td>\n",
       "      <td>6</td>\n",
       "      <td>True</td>\n",
       "    </tr>\n",
       "    <tr>\n",
       "      <th>82</th>\n",
       "      <td>random</td>\n",
       "      <td>trace</td>\n",
       "      <td>onset</td>\n",
       "      <td>6</td>\n",
       "      <td>True</td>\n",
       "    </tr>\n",
       "    <tr>\n",
       "      <th>31</th>\n",
       "      <td>random</td>\n",
       "      <td>trace</td>\n",
       "      <td>probe</td>\n",
       "      <td>4</td>\n",
       "      <td>True</td>\n",
       "    </tr>\n",
       "  </tbody>\n",
       "</table>\n",
       "</div>"
      ],
      "text/plain": [
       "    solver_type initial_word   word  num_attempts  solved_wordle\n",
       "1        random        trace  hotel             6           True\n",
       "80       random        trace  wrung             3           True\n",
       "175         llm        trace  worse             6           True\n",
       "82       random        trace  onset             6           True\n",
       "31       random        trace  probe             4           True"
      ]
     },
     "execution_count": 2,
     "metadata": {},
     "output_type": "execute_result"
    }
   ],
   "source": [
    "# Load the experiment data from a CSV file\n",
    "df = pd.read_csv('../data/experiment_100_words.csv')\n",
    "\n",
    "# Add a new column 'solved_wordle' to the dataframe. \n",
    "# This column is True if 'num_attempts' is less than or equal to 6 (indicating the Wordle was solved within the allowed attempts), and False otherwise.\n",
    "df[\"solved_wordle\"] = df.num_attempts <= 6\n",
    "\n",
    "# Display a random sample of 5 rows from the dataframe\n",
    "df.sample(5)"
   ]
  },
  {
   "cell_type": "markdown",
   "metadata": {},
   "source": [
    "## Compare Success Rates for the Random and LLM Solvers"
   ]
  },
  {
   "cell_type": "code",
   "execution_count": 3,
   "metadata": {},
   "outputs": [
    {
     "data": {
      "image/png": "[encoded data removed]",
      "text/plain": [
       "<Figure size 800x600 with 1 Axes>"
      ]
     },
     "metadata": {},
     "output_type": "display_data"
    }
   ],
   "source": [
    "import matplotlib.pyplot as plt\n",
    "\n",
    "# Group by solver and calculate the percentage of solved Wordle\n",
    "solved_percentages = df.groupby('solver_type')['solved_wordle'].mean() * 100\n",
    "\n",
    "# Plot\n",
    "plt.figure(figsize=(8, 6))\n",
    "bars = solved_percentages.plot(kind='bar')\n",
    "plt.ylabel('Percentage of Trials Solved')\n",
    "plt.title('Percentage of Trials that Solved Wordle for Random and LLM Solvers')\n",
    "\n",
    "# Add percentage labels on top of each bar\n",
    "for bar in bars.patches:\n",
    "    bars.text(bar.get_x() + bar.get_width() / 2, bar.get_height(), \n",
    "              f'{bar.get_height():.2f}%', ha='center', va='bottom')\n",
    "\n",
    "# Rotate x-axis labels\n",
    "plt.xticks(rotation=0)\n",
    "plt.savefig('../docs/images/percentage_solved_100_words.png')\n",
    "plt.show()"
   ]
  },
  {
   "cell_type": "code",
   "execution_count": 4,
   "metadata": {},
   "outputs": [
    {
     "name": "stdout",
     "output_type": "stream",
     "text": [
      "Chi-Square statistic: 41.25979505726341\n",
      "P-value: 1.332822812418368e-10\n"
     ]
    }
   ],
   "source": [
    "from scipy.stats import chi2_contingency\n",
    "\n",
    "# Create a contingency table\n",
    "contingency_table = pd.crosstab(df['solver_type'], df['solved_wordle'])\n",
    "\n",
    "# Perform the Chi-Square test\n",
    "chi2, p, dof, expected = chi2_contingency(contingency_table)\n",
    "\n",
    "print(f\"Chi-Square statistic: {chi2}\")\n",
    "print(f\"P-value: {p}\")"
   ]
  },
  {
   "cell_type": "markdown",
   "metadata": {},
   "source": [
    "The results of the Chi-Square test, as indicated by a Chi-Square statistic of 23.41 and an exceptionally low P-value of 1.3081e-06, strongly suggest a significant statistical association between the categorical variables under examination, `solver_type` and `solved_wordle`. The high Chi-Square value points to a substantial divergence between the observed data and the expected frequencies under the null hypothesis, which proposes no relationship between the variables. The P-value, being well below the conventional significance level of 0.05, further reinforces this finding. It indicates that the probability of observing such a marked difference under the assumption of the null hypothesis is extremely low. Consequently, these results lead to the rejection of the null hypothesis, implying that there is a statistically significant relationship between the studied variables, contrary to the assumption of independence posited by the null hypothesis."
   ]
  },
  {
   "cell_type": "code",
   "execution_count": 5,
   "metadata": {},
   "outputs": [
    {
     "data": {
      "image/png": "[encoded data removed]",
      "text/plain": [
       "<Figure size 800x600 with 1 Axes>"
      ]
     },
     "metadata": {},
     "output_type": "display_data"
    }
   ],
   "source": [
    "import seaborn as sns\n",
    "import matplotlib.pyplot as plt\n",
    "import numpy as np\n",
    "\n",
    "# Create a box plot\n",
    "plt.figure(figsize=(8, 6))\n",
    "box_plot = sns.boxplot(x='solver_type', y='num_attempts', data=df)\n",
    "\n",
    "medians = df.groupby(['solver_type'])['num_attempts'].median().values\n",
    "medians = medians[::-1] # reverse order to match the boxplot order\n",
    "median_labels = [str(np.round(s, 2)) for s in medians]\n",
    "\n",
    "pos = range(len(medians))\n",
    "for tick,label in zip(pos,box_plot.get_xticklabels()):\n",
    "    box_plot.text(pos[tick], medians[tick], median_labels[tick], \n",
    "            horizontalalignment='center', size='x-large', color='r', weight='semibold')\n",
    "\n",
    "plt.title('Box plot of the Number of Attempts for Random and LLM Solvers')\n",
    "plt.savefig('../docs/images/boxplot_num_attempts_100_words.png')\n",
    "plt.show()"
   ]
  },
  {
   "cell_type": "code",
   "execution_count": 6,
   "metadata": {},
   "outputs": [
    {
     "data": {
      "text/html": [
       "<div>\n",
       "<style scoped>\n",
       "    .dataframe tbody tr th:only-of-type {\n",
       "        vertical-align: middle;\n",
       "    }\n",
       "\n",
       "    .dataframe tbody tr th {\n",
       "        vertical-align: top;\n",
       "    }\n",
       "\n",
       "    .dataframe thead th {\n",
       "        text-align: right;\n",
       "    }\n",
       "</style>\n",
       "<table border=\"1\" class=\"dataframe\">\n",
       "  <thead>\n",
       "    <tr style=\"text-align: right;\">\n",
       "      <th></th>\n",
       "      <th>count</th>\n",
       "      <th>mean</th>\n",
       "      <th>std</th>\n",
       "      <th>min</th>\n",
       "      <th>25%</th>\n",
       "      <th>50%</th>\n",
       "      <th>75%</th>\n",
       "      <th>90%</th>\n",
       "      <th>95%</th>\n",
       "      <th>99%</th>\n",
       "      <th>max</th>\n",
       "    </tr>\n",
       "    <tr>\n",
       "      <th>solver_type</th>\n",
       "      <th></th>\n",
       "      <th></th>\n",
       "      <th></th>\n",
       "      <th></th>\n",
       "      <th></th>\n",
       "      <th></th>\n",
       "      <th></th>\n",
       "      <th></th>\n",
       "      <th></th>\n",
       "      <th></th>\n",
       "      <th></th>\n",
       "    </tr>\n",
       "  </thead>\n",
       "  <tbody>\n",
       "    <tr>\n",
       "      <th>llm</th>\n",
       "      <td>100.0</td>\n",
       "      <td>4.61</td>\n",
       "      <td>1.033724</td>\n",
       "      <td>2.0</td>\n",
       "      <td>4.0</td>\n",
       "      <td>5.0</td>\n",
       "      <td>5.0</td>\n",
       "      <td>6.0</td>\n",
       "      <td>6.0</td>\n",
       "      <td>7.0</td>\n",
       "      <td>7.0</td>\n",
       "    </tr>\n",
       "    <tr>\n",
       "      <th>random</th>\n",
       "      <td>100.0</td>\n",
       "      <td>5.95</td>\n",
       "      <td>1.565893</td>\n",
       "      <td>2.0</td>\n",
       "      <td>5.0</td>\n",
       "      <td>6.0</td>\n",
       "      <td>7.0</td>\n",
       "      <td>8.0</td>\n",
       "      <td>8.0</td>\n",
       "      <td>9.0</td>\n",
       "      <td>9.0</td>\n",
       "    </tr>\n",
       "  </tbody>\n",
       "</table>\n",
       "</div>"
      ],
      "text/plain": [
       "             count  mean       std  min  25%  50%  75%  90%  95%  99%  max\n",
       "solver_type                                                               \n",
       "llm          100.0  4.61  1.033724  2.0  4.0  5.0  5.0  6.0  6.0  7.0  7.0\n",
       "random       100.0  5.95  1.565893  2.0  5.0  6.0  7.0  8.0  8.0  9.0  9.0"
      ]
     },
     "execution_count": 6,
     "metadata": {},
     "output_type": "execute_result"
    }
   ],
   "source": [
    "df.groupby('solver_type')['num_attempts'].describe(percentiles=[0.25, 0.5, 0.75, 0.9, 0.95, 0.99])"
   ]
  },
  {
   "cell_type": "markdown",
   "metadata": {},
   "source": [
    "The boxplot show that the median number of attempts for the random solver is 6, while the median number of attempts for the llm solver is 4. This suggests that the LLM solver is more likely to solve the Wordle within the allowed 6 attempts."
   ]
  }
 ],
 "metadata": {
  "kernelspec": {
   "display_name": "Python 3",
   "language": "python",
   "name": "python3"
  },
  "language_info": {
   "codemirror_mode": {
    "name": "ipython",
    "version": 3
   },
   "file_extension": ".py",
   "mimetype": "text/x-python",
   "name": "python",
   "nbconvert_exporter": "python",
   "pygments_lexer": "ipython3",
   "version": "3.11.7"
  }
 },
 "nbformat": 4,
 "nbformat_minor": 2
}
